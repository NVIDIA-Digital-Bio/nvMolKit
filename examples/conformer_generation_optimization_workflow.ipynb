{
 "cells": [
  {
   "cell_type": "markdown",
   "id": "a22e5d9e",
   "metadata": {},
   "source": [
    "# nvMolKit Conformer Generation and MMFF Optimization Tutorial\n",
    "This notebook demonstrates the complete workflow for:\n",
    "1. Loading molecules from SDF files\n",
    "2. GPU-accelerated ETKDG conformer generation\n",
    "3. MMFF force field optimization"
   ]
  },
  {
   "cell_type": "code",
   "execution_count": null,
   "id": "6f44d033",
   "metadata": {},
   "outputs": [],
   "source": [
    "import os\n",
    "import time\n",
    "from rdkit import Chem\n",
    "from rdkit.Chem.rdDistGeom import ETKDGv3\n",
    "from nvmolkit.embedMolecules import EmbedMolecules as nvMolKitEmbed\n",
    "from nvmolkit.embedMolecules import BatchHardwareOptions\n",
    "from nvmolkit.mmffOptimization import MMFFOptimizeMoleculesConfs as nvMolKitMMFFOptimize"
   ]
  },
  {
   "cell_type": "code",
   "execution_count": null,
   "id": "eccb98b7",
   "metadata": {},
   "outputs": [],
   "source": [
    "# Configuration\n",
    "SDF_FILE = \"../benchmarks/data/MPCONF196.sdf\"\n",
    "MAX_MOLECULES = 50\n",
    "CONFORMERS_PER_MOLECULE = 5\n",
    "RANDOM_SEED = 42"
   ]
  },
  {
   "cell_type": "code",
   "execution_count": null,
   "id": "f48771af",
   "metadata": {},
   "outputs": [],
   "source": [
    "# Setup ETKDG parameters\n",
    "params = ETKDGv3()\n",
    "params.randomSeed = RANDOM_SEED\n",
    "params.useRandomCoords = True  # Required for nvMolKit"
   ]
  },
  {
   "cell_type": "markdown",
   "id": "13610125",
   "metadata": {},
   "source": [
    "## Step 1: Load molecules from SDF file"
   ]
  },
  {
   "cell_type": "code",
   "execution_count": null,
   "id": "e287ad45",
   "metadata": {},
   "outputs": [],
   "source": [
    "if not os.path.exists(SDF_FILE):\n",
    "    raise FileNotFoundError(f\"SDF file not found: {SDF_FILE}\")\n",
    "\n",
    "supplier = Chem.SDMolSupplier(SDF_FILE, removeHs=False, sanitize=True)\n",
    "molecules = []\n",
    "\n",
    "for i, mol in enumerate(supplier):\n",
    "    if mol is None:\n",
    "        continue\n",
    "    if i >= MAX_MOLECULES:\n",
    "        break\n",
    "    \n",
    "    # Clear any existing conformers for clean embedding tests\n",
    "    mol.RemoveAllConformers()\n",
    "    molecules.append(mol)\n",
    "\n",
    "print(f\"Successfully loaded {len(molecules)} molecules from {SDF_FILE}\")"
   ]
  },
  {
   "cell_type": "markdown",
   "id": "4e7bad01",
   "metadata": {},
   "source": [
    "## Step 2: Generate conformers using GPU-accelerated ETKDG"
   ]
  },
  {
   "cell_type": "code",
   "execution_count": null,
   "id": "da5dd6b3",
   "metadata": {},
   "outputs": [],
   "source": [
    "hardware_opts = BatchHardwareOptions()\n",
    "hardware_opts.preprocessingThreads = 2\n",
    "hardware_opts.batchSize = 25\n",
    "hardware_opts.batchesPerGpu = 2\n",
    "\n",
    "start_time = time.time()\n",
    "\n",
    "nvMolKitEmbed(\n",
    "    molecules=molecules,\n",
    "    params=params,\n",
    "    confsPerMolecule=CONFORMERS_PER_MOLECULE,\n",
    "    maxIterations=-1,  # Automatic iteration calculation\n",
    "    hardwareOptions=hardware_opts\n",
    ")\n",
    "\n",
    "embedding_time = time.time() - start_time\n",
    "total_conformers = sum(mol.GetNumConformers() for mol in molecules)\n",
    "\n",
    "print(f\"Conformer generation completed in {embedding_time:.2f} seconds\")\n",
    "print(f\"Generated {total_conformers} total conformers\")\n",
    "print(f\"Rate: {total_conformers/embedding_time:.1f} conformers/second\")\n"
   ]
  },
  {
   "cell_type": "markdown",
   "id": "7bb3f26e",
   "metadata": {},
   "source": [
    "## Step 3: Optimize conformers using MMFF force field"
   ]
  },
  {
   "cell_type": "code",
   "execution_count": null,
   "id": "5b8b3e17",
   "metadata": {},
   "outputs": [],
   "source": [
    "mmff_hardware_opts = BatchHardwareOptions()\n",
    "mmff_hardware_opts.preprocessingThreads = 4\n",
    "mmff_hardware_opts.batchSize = 0  # Process all conformers together\n",
    "\n",
    "total_conformers = sum(mol.GetNumConformers() for mol in molecules)\n",
    "start_time = time.time()\n",
    "\n",
    "energies = nvMolKitMMFFOptimize(\n",
    "    molecules=molecules,\n",
    "    maxIters=200,\n",
    "    nonBondedThreshold=100.0,\n",
    "    hardwareOptions=mmff_hardware_opts\n",
    ")\n",
    "\n",
    "optimization_time = time.time() - start_time\n",
    "\n",
    "print(f\"MMFF optimization completed in {optimization_time:.2f} seconds\")\n",
    "print(f\"Rate: {total_conformers/optimization_time:.1f} conformers/second\")"
   ]
  }
 ],
 "metadata": {
  "language_info": {
   "name": "python"
  }
 },
 "nbformat": 4,
 "nbformat_minor": 5
}
