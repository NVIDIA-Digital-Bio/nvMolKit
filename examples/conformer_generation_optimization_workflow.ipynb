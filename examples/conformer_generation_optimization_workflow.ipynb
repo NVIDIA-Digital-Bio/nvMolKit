{
 "cells": [
  {
   "cell_type": "markdown",
   "id": "0",
   "metadata": {},
   "source": [
    "# nvMolKit Conformer Generation and MMFF Optimization Tutorial\n",
    "This notebook demonstrates the complete workflow for:\n",
    "1. Loading molecules from SDF files\n",
    "2. GPU-accelerated ETKDG conformer generation\n",
    "3. MMFF force field optimization"
   ]
  },
  {
   "cell_type": "code",
   "execution_count": null,
   "id": "1",
   "metadata": {},
   "outputs": [],
   "source": [
    "import os\n",
    "import time\n",
    "from rdkit import Chem\n",
    "from rdkit.Chem.rdDistGeom import ETKDGv3\n",
    "from nvmolkit.embedMolecules import EmbedMolecules as nvMolKitEmbed\n",
    "from nvmolkit.types import HardwareOptions\n",
    "from nvmolkit.mmffOptimization import MMFFOptimizeMoleculesConfs as nvMolKitMMFFOptimize"
   ]
  },
  {
   "cell_type": "code",
   "execution_count": null,
   "id": "2",
   "metadata": {},
   "outputs": [],
   "source": [
    "# Configuration\n",
    "SDF_FILE = \"../benchmarks/data/MPCONF196.sdf\"\n",
    "MAX_MOLECULES = 50\n",
    "CONFORMERS_PER_MOLECULE = 5\n",
    "RANDOM_SEED = 42"
   ]
  },
  {
   "cell_type": "code",
   "execution_count": null,
   "id": "3",
   "metadata": {},
   "outputs": [],
   "source": [
    "# Setup ETKDG parameters\n",
    "params = ETKDGv3()\n",
    "params.randomSeed = RANDOM_SEED\n",
    "params.useRandomCoords = True  # Required for nvMolKit"
   ]
  },
  {
   "cell_type": "markdown",
   "id": "4",
   "metadata": {},
   "source": [
    "## Step 1: Load molecules from SDF file"
   ]
  },
  {
   "cell_type": "code",
   "execution_count": null,
   "id": "5",
   "metadata": {},
   "outputs": [],
   "source": [
    "if not os.path.exists(SDF_FILE):\n",
    "    raise FileNotFoundError(f\"SDF file not found: {SDF_FILE}\")\n",
    "\n",
    "supplier = Chem.SDMolSupplier(SDF_FILE, removeHs=False, sanitize=True)\n",
    "molecules = []\n",
    "\n",
    "for i, mol in enumerate(supplier):\n",
    "    if mol is None:\n",
    "        continue\n",
    "    if i >= MAX_MOLECULES:\n",
    "        break\n",
    "    \n",
    "    # Clear any existing conformers for clean embedding tests\n",
    "    mol.RemoveAllConformers()\n",
    "    molecules.append(mol)\n",
    "\n",
    "print(f\"Successfully loaded {len(molecules)} molecules from {SDF_FILE}\")"
   ]
  },
  {
   "cell_type": "markdown",
   "id": "6",
   "metadata": {},
   "source": [
    "## Step 2: Generate conformers using GPU-accelerated ETKDG"
   ]
  },
  {
   "cell_type": "code",
   "execution_count": null,
   "id": "7",
   "metadata": {},
   "outputs": [],
   "source": [
    "hardware_opts = HardwareOptions(\n",
    "    preprocessingThreads=2,\n",
    "    batchSize=25,\n",
    "    batchesPerGpu=2,\n",
    ")\n",
    "\n",
    "start_time = time.time()\n",
    "\n",
    "nvMolKitEmbed(\n",
    "    molecules=molecules,\n",
    "    params=params,\n",
    "    confsPerMolecule=CONFORMERS_PER_MOLECULE,\n",
    "    maxIterations=-1,  # Automatic iteration calculation\n",
    "    hardwareOptions=hardware_opts\n",
    ")\n",
    "\n",
    "embedding_time = time.time() - start_time\n",
    "total_conformers = sum(mol.GetNumConformers() for mol in molecules)\n",
    "\n",
    "print(f\"Conformer generation completed in {embedding_time:.2f} seconds\")\n",
    "print(f\"Generated {total_conformers} total conformers\")\n",
    "print(f\"Rate: {total_conformers/embedding_time:.1f} conformers/second\")\n"
   ]
  },
  {
   "cell_type": "markdown",
   "id": "8",
   "metadata": {},
   "source": [
    "## Step 3: Optimize conformers using MMFF force field"
   ]
  },
  {
   "cell_type": "code",
   "execution_count": null,
   "id": "9",
   "metadata": {},
   "outputs": [],
   "source": [
    "mmff_hardware_opts = HardwareOptions(\n",
    "    preprocessingThreads=4,\n",
    "    batchSize=0,  # Process all conformers together\n",
    ")\n",
    "\n",
    "total_conformers = sum(mol.GetNumConformers() for mol in molecules)\n",
    "start_time = time.time()\n",
    "\n",
    "energies = nvMolKitMMFFOptimize(\n",
    "    molecules=molecules,\n",
    "    maxIters=200,\n",
    "    nonBondedThreshold=100.0,\n",
    "    hardwareOptions=mmff_hardware_opts\n",
    ")\n",
    "\n",
    "optimization_time = time.time() - start_time\n",
    "\n",
    "print(f\"MMFF optimization completed in {optimization_time:.2f} seconds\")\n",
    "print(f\"Rate: {total_conformers/optimization_time:.1f} conformers/second\")"
   ]
  },
  {
   "cell_type": "code",
   "execution_count": null,
   "id": "10",
   "metadata": {},
   "outputs": [],
   "source": []
  }
 ],
 "metadata": {
  "kernelspec": {
   "display_name": "Python 3 (ipykernel)",
   "language": "python",
   "name": "python3"
  },
  "language_info": {
   "codemirror_mode": {
    "name": "ipython",
    "version": 3
   },
   "file_extension": ".py",
   "mimetype": "text/x-python",
   "name": "python",
   "nbconvert_exporter": "python",
   "pygments_lexer": "ipython3",
   "version": "3.13.3"
  }
 },
 "nbformat": 4,
 "nbformat_minor": 5
}
