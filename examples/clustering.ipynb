{
 "cells": [
  {
   "cell_type": "markdown",
   "id": "0",
   "metadata": {},
   "source": [
    "# GPU-accelerated molecule characterization and clustering\n",
    "\n",
    "This notebook demonstrates a molecular clustering example. We will perform the same workflow with both RDKit and nvMolKit APIs. The steps are:\n",
    "\n",
    "1. Compute Morgan Fingerprints for molecules\n",
    "2. Compute tanimoto similarity between fingerprints\n",
    "3. Cluster molecules via Butina clustering using tanimoto distances as clustering metrics"
   ]
  },
  {
   "cell_type": "markdown",
   "id": "1",
   "metadata": {},
   "source": [
    "## User parameters"
   ]
  },
  {
   "cell_type": "code",
   "execution_count": null,
   "id": "2",
   "metadata": {},
   "outputs": [],
   "source": [
    "# Number of molecules to process\n",
    "n_mols = 10000\n",
    "# Hardware threads to use\n",
    "n_cpu_threads = 16\n",
    "\n",
    "# Radius for Morgan fingerprinting\n",
    "fp_radius = 3\n",
    "# Number of fingerprint bits\n",
    "fp_nbits = 1024\n",
    "# Butina similarity threshold\n",
    "distance_threshold = 0.5"
   ]
  },
  {
   "cell_type": "markdown",
   "id": "3",
   "metadata": {},
   "source": [
    "## Molecule selection\n",
    "\n",
    "First we'll parse molecules using RDKit. If you have a .smi file, use this section to load molecules, replace smi_file with a local path. The default path will load molecules store in the nvmolkit repo.\n"
   ]
  },
  {
   "cell_type": "code",
   "execution_count": null,
   "id": "4",
   "metadata": {},
   "outputs": [],
   "source": [
    "import pandas as pd\n",
    "from rdkit.Chem import MolFromSmiles\n",
    "\n",
    "smi_file = \"../benchmarks/data/chembl_10k.smi\"\n",
    "\n",
    "smis = pd.read_csv(smi_file, nrows=n_mols).iloc[:, 0].to_list()\n",
    "mols = [MolFromSmiles(smi) for smi in smis]\n",
    "mols = [mol for mol in mols if mol] # remove any parse failures\n",
    "n_mols = len(mols)\n",
    "print(f\"Parsed {n_mols} mols\")\n",
    "\n"
   ]
  },
  {
   "cell_type": "markdown",
   "id": "5",
   "metadata": {},
   "source": [
    "## RDKit workflow\n",
    "\n",
    "The following lines compute butina clusters via RDKit. The fingerprinting API is multithreaded, but parallelizing the similarity and clustering would require user-defined multiprocessing, which has significant overhead. See the appendix of this notebook for an example."
   ]
  },
  {
   "cell_type": "code",
   "execution_count": null,
   "id": "6",
   "metadata": {},
   "outputs": [],
   "source": [
    "import time\n",
    "\n",
    "from rdkit.Chem import rdFingerprintGenerator\n",
    "from rdkit.DataStructs import BulkTanimotoSimilarity\n",
    "from rdkit.ML.Cluster.Butina import ClusterData\n",
    "\n",
    "t = time.time()\n",
    "print(\"Computing fingerprints\")\n",
    "generator = rdFingerprintGenerator.GetMorganGenerator(radius=fp_radius, fpSize=fp_nbits)\n",
    "fps = generator.GetFingerprints(mols, numThreads=n_cpu_threads)\n",
    "\n",
    "print(\"Computing cross tanimoto distances\")\n",
    "distances = []\n",
    "for i in range(len(mols)):\n",
    "    distances.extend(BulkTanimotoSimilarity(fps[i], fps[:i], returnDistance=True))\n",
    "\n",
    "print(\"Computing clusters\")\n",
    "clusters = ClusterData(\n",
    "    distances,\n",
    "    n_mols,\n",
    "    distance_threshold,\n",
    "    isDistData=True,\n",
    "    distFunc=None,\n",
    "    reordering=True\n",
    ")\n",
    "\n",
    "print(f\"Total elapsed time: {time.time() - t:.2f} seconds\")"
   ]
  },
  {
   "cell_type": "markdown",
   "id": "7",
   "metadata": {},
   "source": [
    "## nvMolKit workflow\n"
   ]
  },
  {
   "cell_type": "code",
   "execution_count": null,
   "id": "8",
   "metadata": {},
   "outputs": [],
   "source": [
    "import time\n",
    "import torch\n",
    "\n",
    "from nvmolkit.similarity import crossTanimotoSimilarity\n",
    "from nvmolkit.fingerprints import MorganFingerprintGenerator\n",
    "\n",
    "t = time.time()\n",
    "nvmolkit_fpgen = MorganFingerprintGenerator(radius=fp_radius, fpSize=fp_nbits)\n",
    "# Note that nvmolkit fingerprints use multithreading for preprocessing in addition to GPU acceleration\n",
    "nvmolkit_fps_cu = torch.as_tensor(nvmolkit_fpgen.GetFingerprints(mols, num_threads=n_cpu_threads), device='cuda')\n",
    "nvmolkit_distances = 1.0 - torch.as_tensor(crossTanimotoSimilarity(nvmolkit_fps_cu),device='cuda')\n",
    "torch.cuda.synchronize()\n",
    "nvmolkit_clusters = ClusterData(\n",
    "    nvmolkit_distances.cpu().numpy(),\n",
    "    n_mols,\n",
    "    distance_threshold,\n",
    "    isDistData=True,\n",
    "    distFunc=None,\n",
    "    reordering=True\n",
    ")\n",
    "print(f\"Total elapsed time: {time.time() - t:.2f} seconds\")"
   ]
  },
  {
   "cell_type": "markdown",
   "id": "9",
   "metadata": {},
   "source": [
    "## Comparing results\n",
    "\n",
    "We'll plot the sizes of the resulting clusters to compare between the two methods"
   ]
  },
  {
   "cell_type": "code",
   "execution_count": null,
   "id": "10",
   "metadata": {},
   "outputs": [],
   "source": [
    "import matplotlib.pyplot as plt\n",
    "\n",
    "cluster_counts = [len(item) for item in clusters]\n",
    "nvmolkit_cluster_counts = [len(item) for item in nvmolkit_clusters]\n",
    "\n",
    "plt.plot(range(len(cluster_counts)), cluster_counts, label=\"RDKit\", linewidth=3)\n",
    "plt.plot(range(len(nvmolkit_cluster_counts)), nvmolkit_cluster_counts, linestyle=\"--\", linewidth=3, label=\"nvMolKit\")\n",
    "plt.xlabel(\"Cluster\")\n",
    "plt.legend()\n",
    "plt.ylabel(\"Number of Molecules\")\n",
    "plt.ylim(0, max(cluster_counts) * 1.05)\n"
   ]
  },
  {
   "cell_type": "markdown",
   "id": "11",
   "metadata": {},
   "source": [
    "## Appendix - RDKit workflow with multiprocessing\n",
    "\n",
    "The following lines compute butina clusters via RDKit, with some multiprocess acceleration"
   ]
  },
  {
   "cell_type": "code",
   "execution_count": null,
   "id": "12",
   "metadata": {},
   "outputs": [],
   "source": [
    "import multiprocessing\n",
    "\n",
    "CHUNK_SIZE = 500\n",
    "\n",
    "def fps_distributed(mols):\n",
    "    \"\"\"Generates Morgan fingerprints for a list of molecules.\"\"\"\n",
    "    generator = rdFingerprintGenerator.GetMorganGenerator(radius=fp_radius, fpSize=fp_nbits)\n",
    "    return [generator.GetFingerprint(mol) for mol in mols]\n",
    "\n",
    "def distances_distributed(fp0, fp_slice):\n",
    "    \"\"\"Computes the Tanimoto distances between one and a set of fingerprints.\"\"\"\n",
    "    return BulkTanimotoSimilarity(fp0, fp_slice, returnDistance=True)\n",
    "\n",
    "t = time.time()\n",
    "print(\"Computing fingerprints\")\n",
    "with multiprocessing.Pool(n_cpu_threads) as pool:\n",
    "    chunked_mols = [mols[i: i + CHUNK_SIZE] for i in range(0, len(mols), CHUNK_SIZE)]\n",
    "    chunked_fps = pool.map(fps_distributed, chunked_mols)\n",
    "    fps = []\n",
    "    for chunk in chunked_fps:\n",
    "        fps.extend(chunk)\n",
    "\n",
    "    chunked_distance_input = [(fps[i], fps[:i]) for i in range(n_mols)]\n",
    "    chunked_distances = pool.starmap(distances_distributed, chunked_distance_input)\n",
    "    distances = []\n",
    "    for chunk in chunked_distances:\n",
    "        distances.extend(chunk)\n",
    "\n",
    "print(\"Computing clusters\")\n",
    "clusters = ClusterData(\n",
    "    distances,\n",
    "    n_mols,\n",
    "    distance_threshold,\n",
    "    isDistData=True,\n",
    "    distFunc=None,\n",
    "    reordering=True\n",
    ")\n",
    "\n",
    "print(f\"Total elapsed time: {time.time() - t:.2f} seconds\")"
   ]
  }
 ],
 "metadata": {
  "kernelspec": {
   "display_name": "Python 3 (ipykernel)",
   "language": "python",
   "name": "python3"
  },
  "language_info": {
   "codemirror_mode": {
    "name": "ipython",
    "version": 3
   },
   "file_extension": ".py",
   "mimetype": "text/x-python",
   "name": "python",
   "nbconvert_exporter": "python",
   "pygments_lexer": "ipython3",
   "version": "3.13.3"
  }
 },
 "nbformat": 4,
 "nbformat_minor": 5
}
